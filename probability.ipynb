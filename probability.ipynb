{
 "cells": [
  {
   "cell_type": "markdown",
   "metadata": {},
   "source": [
    "# Question 1.1"
   ]
  },
  {
   "cell_type": "markdown",
   "metadata": {},
   "source": [
    "The probabilty For an identical twin is 1/300<br/>\n",
    "The probability of giving birth to not identical twins is: 1/125<br/> \n",
    "The probability for giving a birth a boy or a girl and it is identical:1/2<br/> \n",
    "The probability that Elvis was an identical twin is:\n",
    "\n",
    "since elvis had a twin brother we already know that he was a boy which means that it can either be an identical twin or an non identical twin\n",
    "\n",
    "The probability of not being an identical twin and being a boy is:\n",
    "\n",
    "$$\\frac {1}{125} \\cdot \\frac {1}{2} \\cdot \\frac {1}{2}$$\n",
    "The probability of being an identical boy twins is:\n",
    "\n",
    "$$\\frac {1}{300} \\cdot \\frac {1}{2}$$\n",
    "Therefore the probability of elvis's twin being an identical twin is:\n",
    "\n",
    "$$\\frac {\\frac {1}{2}\\cdot \\frac {1}{300}}{\\frac {1}{500} + \\frac {1}{600} } = \\frac {5}{11}$$"
   ]
  },
  {
   "cell_type": "markdown",
   "metadata": {},
   "source": [
    "# Question 1.2"
   ]
  },
  {
   "cell_type": "markdown",
   "metadata": {},
   "source": [
    "1 st cookie jar has 10 almond cookies and 30 chocolate cookies 2nd cookie jar has 20 almond and chocolate cookies\n",
    "\n",
    "It is known that Arik has taken a chocolate cookie, What is the probability this cookie was taken from the 1st jar?\n",
    "\n",
    "The probability of picking a chocolate cookie is:\n",
    "\n",
    "$$\\frac {1}{2} \\cdot \\frac {1}{2} + \\frac {1}{2} \\cdot \\frac {3}{4} = \\frac {5}{8}$$\n",
    "The probability that the chocolate cookie was taken from the 1st jar is:\n",
    "\n",
    "$$\\frac {\\frac {1}{2} \\cdot \\frac {3}{4}}{\\frac {5}{8}}= \\frac {3}{5}$$"
   ]
  },
  {
   "cell_type": "markdown",
   "metadata": {},
   "source": [
    "# Question 2"
   ]
  },
  {
   "cell_type": "markdown",
   "metadata": {},
   "source": [
    "\n",
    "The hypothesis we have is:\n",
    "\n",
    "A: Bag $1$ is from $1994$ and Bag $2$ is from $1996$\n",
    "\n",
    "B: Bag $2$ is from $1994$ and Bag $1$ is from $1996$\n",
    "\n",
    "We can easily see that the probability for each case(A , B ) is $ 50\\% $\n",
    "\n",
    "The evidence we have is:\n",
    "\n",
    "Yellow from bag 1(the 1994 bag) and green from bag 2 (the 1996 bag).\n",
    "\n",
    "Since the probability of taking a yellow from 1994 is intertwined with taking a green from 1996 (and vice versa for yellow from 1996) we must multiply the probabilty.\n",
    "\n",
    "So the probabilty for a yellow m&m from bag 1 is : $(0.2)\\cdot(0.2) = 0.04$\n",
    "\n",
    "and the probabilty for a yellow m&m from bag 2 is : $(0.1)\\cdot(0.14) =0.014 $\n",
    "\n",
    "Plugging that into the bayes probabilty theorem we get:\n",
    "\n",
    "P(A | B) = $\\dfrac{P(A and B)}{ P(B)} = \\dfrac{0.04}{0.2 \\cdot 0.2 + 0.1 \\cdot 0.14} = \\dfrac{0.04}{0.054} = 0.74074 $"
   ]
  },
  {
   "cell_type": "markdown",
   "metadata": {},
   "source": [
    "# Question 3.1"
   ]
  },
  {
   "cell_type": "markdown",
   "metadata": {},
   "source": [
    "\n",
    "This a classic bayes theorem question therefore we will write the evidence and hypothesis:\n",
    "\n",
    "H= You are actually sick\n",
    "\n",
    "E= You tested positive for swine flu\n",
    "\n",
    "We need to find what is the probability of you having swine flu which is: P(H | E)\n",
    "\n",
    "P(H) = $ \\dfrac{1}{10000}$\n",
    "\n",
    "P(E) = $ \\dfrac{1}{10000} + \\dfrac{9999}{10000} \\cdot \\dfrac{1}{100} $\n",
    "\n",
    "P(E|H) = $1$\n",
    "\n",
    "plugging that all into the Bayes fromula we get :\n",
    "\n",
    "P(H|E) = $\\frac{P(E|H) \\cdot P(H)}{P(E)} = \\frac{1 \\cdot \\dfrac{1}{10000}}{\\dfrac{1}{10000} + \\dfrac{9999}{10000} \\cdot \\dfrac{1}{100}} = \\dfrac{100}{10099}  $\n",
    "\n"
   ]
  },
  {
   "cell_type": "markdown",
   "metadata": {},
   "source": [
    "# Question 3.2"
   ]
  },
  {
   "cell_type": "markdown",
   "metadata": {},
   "source": [
    "\n",
    "\n",
    "\n",
    "H= You are actually sick(with new Thailand data)\n",
    "\n",
    "E= You tested positive for swine flu\n",
    "\n",
    "We need to find what is the probability of you having swine flu which is: P(H | E)\n",
    "\n",
    "P(H) = $ \\dfrac{1}{200}$\n",
    "\n",
    "P(E) = $ \\dfrac{1}{200} + \\dfrac{199}{200} \\cdot \\dfrac{1}{100} $\n",
    "\n",
    "P(E|H) = $1$\n",
    "\n",
    "plugging that all into the Bayes fromula we get :\n",
    "\n",
    "P(H|E) = $\\frac{P(E|H) \\cdot P(H)}{P(E)} = \\frac{1 \\cdot \\dfrac{1}{10000}}{\\dfrac{1}{200} + \\dfrac{199}{200} \\cdot \\dfrac{1}{100}} = \\dfrac{100}{299} = 0.3344 \\%  $"
   ]
  },
  {
   "cell_type": "markdown",
   "metadata": {},
   "source": [
    "# Question 4"
   ]
  },
  {
   "cell_type": "markdown",
   "metadata": {},
   "source": [
    "the numbers that are divisible by 3 and can be received from 2 dices are : 3,6,9,12\n",
    "\n",
    "the numbers we roll to achieve those are:\n",
    "\n",
    "3: (1,2) , (2,1)\n",
    "\n",
    "6 : (2,4) , (4,2) (1,5)(5,1), (3,3)\n",
    "\n",
    "9: (4,5) (5,4) (3,6) (6,3)\n",
    "\n",
    "12 : (6,6)\n",
    "\n",
    "probability of getting a number which is divisible by 3 is :$$\\frac {12}{36} = \\frac {1}{3}$$\n",
    "\n",
    "which means that the probability of winning is :\n",
    "\n",
    "$$\\frac {1}{3}$$\n",
    "The Expected value is:\n",
    "\n",
    "$$\\frac {1}{3} \\cdot 6 + (-3) \\cdot \\frac {2}{3} = 0$$"
   ]
  },
  {
   "cell_type": "markdown",
   "metadata": {},
   "source": [
    "# Question 5"
   ]
  },
  {
   "cell_type": "markdown",
   "metadata": {},
   "source": [
    "\n",
    "We have 25 options of an outcome ($5\\cdot 5\\ = 25$) .\n",
    "\n",
    "Break even = The amount of options for Alex to pick 2 markres for which the sum of them is equel to 12 is  4.\n",
    "\n",
    "Lose = The amount of options for Alex to pick 2 markres for which the sum of them is less then 12 is  15.\n",
    "\n",
    "Win = The amount of options for Alex to pick 2 markres for which the sum of them is equel to 12 is 6.\n",
    "\n",
    "P(Break Even) = $\\dfrac{4}{25}$ (if this happens Alex wins 0$)\n",
    "\n",
    "P(Lose) = $\\dfrac{15}{25}$ (if this happens Alex loses 6$)\n",
    "\n",
    "P(Win) = $\\dfrac{6}{25}$ (if this happens Alex wins 5$)\n",
    "\n",
    "the expected value is :\n",
    "\n",
    "$(\\dfrac{4}{25} \\cdot 0 ) +(\\dfrac{15}{25} \\cdot (-6)) +(\\dfrac{6}{25} \\cdot (5)) = -2.4 $\n"
   ]
  },
  {
   "cell_type": "markdown",
   "metadata": {},
   "source": [
    "# Question 6"
   ]
  },
  {
   "cell_type": "markdown",
   "metadata": {},
   "source": [
    "\n",
    "The company has 200 empolyes.\n",
    "\n",
    "Men empolyes are 40%(P(A)) of the companies employees therefore - 80 employes.\n",
    "\n",
    "Women empolyes are 60% (P(B)) of the companies employees therefore - 120 employes.\n",
    "\n",
    "Inorder to find the answer we need to find the mean (which in our case is the expected value) , and according to that find the std which will be our answer.\n",
    "\n",
    "std = $\\sqrt{mean \\cdot P(B) }  = \\sqrt{8 \\cdot P(A) \\cdot P(B) } = \\sqrt{8 \\cdot 0.4 \\cdot 0.6} = 1.3856$"
   ]
  },
  {
   "cell_type": "markdown",
   "metadata": {},
   "source": [
    "# Question 7\n"
   ]
  },
  {
   "attachments": {
    "68-95-99.png": {
     "image/png": "[encoded data removed]"
    }
   },
   "cell_type": "markdown",
   "metadata": {},
   "source": [
    "![68-95-99.png](attachment:68-95-99.png)\n",
    "\n",
    "$\\mu$ being the mean.\n",
    "\n",
    "$\\sigma$ being the std.\n",
    "\n",
    "So we know that if we add to the mean 1 std we get approximately 34% percent of the results ($\\mu$ + $\\sigma$)\n",
    "\n",
    "If we add to the mean 2 std we get approximately 14% percent of the results ($\\mu + 2\\sigma$)\n",
    "\n",
    "Since we know std is 2 and we want to find the 26<P(X)<30 , we need to combine a and b to find the result.\n",
    "\n",
    "Therefore:\n",
    "\n",
    "$P(X) = 14\\% + 34\\% = 48\\% $\n"
   ]
  },
  {
   "cell_type": "markdown",
   "metadata": {},
   "source": [
    "# Question 8"
   ]
  },
  {
   "cell_type": "markdown",
   "metadata": {},
   "source": [
    "\n",
    "to calculate the total $P$ we need to calculate the area of the triangle.\n",
    "\n",
    "The lenght of the axis $x = 5$ , the length of the hight is $0.4$\n",
    "\n",
    "Total area of the triangle is $P(x)\\Longrightarrow\\dfrac{5\\cdot0.4}{2}=1$\n",
    "\n",
    "The $P(x&gt;3)\\Longrightarrow 1-\\dfrac{(5-2)\\cdot(0.4)}{2}=0.4$\n",
    "In order to find P(X>3) I'll calculate the area of the triangle of 3<x<5 with h as 0.4:\n",
    "(2 * 0.4) / 2 = 0.4"
   ]
  },
  {
   "cell_type": "markdown",
   "metadata": {},
   "source": [
    "# Question 9"
   ]
  },
  {
   "cell_type": "markdown",
   "metadata": {},
   "source": [
    "60% of the 500 employees have children which are = 300 employees\n",
    "so: 300/500 have children, 200/500 don't have children\n",
    "we select randomly 4 employees, the probability to select exactly 3 employees that have children is:\n",
    "P(no children)P(have children)P(have children)P(have children)*4 different options\n",
    "\n",
    "$(\\dfrac{200}{500} \\cdot\\dfrac{300}{500}\\cdot\\dfrac{299}{500}\\cdot\\dfrac{298}{500}\\cdot(4) = 0.342   $"
   ]
  },
  {
   "cell_type": "markdown",
   "metadata": {},
   "source": [
    "# Question 10"
   ]
  },
  {
   "attachments": {
    "final.png": {
     "image/png": "[encoded data removed]"
    }
   },
   "cell_type": "markdown",
   "metadata": {},
   "source": [
    "![final.png](attachment:final.png)\n",
    "\n",
    "\n",
    "The expected value of this:\n",
    "\n",
    "$$((-10)\\cdot 0.1)+((-5)\\cdot 0.35)+(0\\cdot 0.1)+(10\\cdot0.1)+(5\\cdot 0.35) +(0\\cdot0.1)=0$$"
   ]
  },
  {
   "cell_type": "code",
   "execution_count": null,
   "metadata": {},
   "outputs": [],
   "source": []
  }
 ],
 "metadata": {
  "kernelspec": {
   "display_name": "Python 3",
   "language": "python",
   "name": "python3"
  },
  "language_info": {
   "codemirror_mode": {
    "name": "ipython",
    "version": 3
   },
   "file_extension": ".py",
   "mimetype": "text/x-python",
   "name": "python",
   "nbconvert_exporter": "python",
   "pygments_lexer": "ipython3",
   "version": "3.8.3"
  }
 },
 "nbformat": 4,
 "nbformat_minor": 4
}
